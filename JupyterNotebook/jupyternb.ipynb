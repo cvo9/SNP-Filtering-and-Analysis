{
 "cells": [
  {
   "cell_type": "markdown",
   "metadata": {},
   "source": [
    "# SNP Filtering and Analysis"
   ]
  },
  {
   "cell_type": "markdown",
   "metadata": {},
   "source": [
    "Original files of new and known SNPs from GWAS papers are filtered to remove SNPs in linkage disequilibrium with other SNPs in the lists. Analysis is then done on the filtered new SNPs as well as GWAS Catalog SNPs to determine significance of nervous system disease related SNPs and autoimmune disease related SNPs being present in brain and blood genes vs a uniform distribution."
   ]
  },
  {
   "cell_type": "markdown",
   "metadata": {},
   "source": [
    "# Loading SNP Information from Files"
   ]
  },
  {
   "cell_type": "markdown",
   "metadata": {},
   "source": [
    "Initially, data structures are set up to store information about the SNPs read from the input files."
   ]
  },
  {
   "cell_type": "markdown",
   "metadata": {},
   "source": [
    "Essential Python libraries are imported."
   ]
  },
  {
   "cell_type": "code",
   "execution_count": 6,
   "metadata": {
    "collapsed": true
   },
   "outputs": [],
   "source": [
    "import csv\n",
    "import collections as col\n",
    "import numpy as np\n",
    "import copy"
   ]
  },
  {
   "cell_type": "markdown",
   "metadata": {},
   "source": [
    "Data structures to store SNP information are initialized."
   ]
  },
  {
   "cell_type": "code",
   "execution_count": 7,
   "metadata": {
    "collapsed": true
   },
   "outputs": [],
   "source": [
    "# Sets of new and known SNPs associated with each paper and phenotype\n",
    "# papersnps[paperid][pheno][\"new\"] and papersnps[paperid][pheno][\"known\"] to access sets of SNPs\n",
    "papersnps = col.defaultdict(lambda: col.defaultdict(lambda: col.defaultdict(set)))\n",
    "\n",
    "# Sets of paper to snps for known associations\n",
    "knownpapersnps = col.defaultdict(set)\n",
    "\n",
    "# Dictionary of the phenotypes of known snps to use if GWAS catalog doesn't have for a snp\n",
    "knownphenos = {}\n",
    "\n",
    "# For each paper, the pvalue of every SNP for both new and known snps\n",
    "newpvals = col.defaultdict(dict)\n",
    "knownpvals = col.defaultdict(dict)\n",
    "\n",
    "# Information about SNPs including chromosome and physical basepair location\n",
    "# snpsinfo[snpid][\"chr\"], snpsinfo[snpid][\"bp\"] for each value\n",
    "snpsinfo = col.defaultdict(dict)\n",
    "\n",
    "# For each chromosome, maps from basepair location to genetic location\n",
    "# genloc[chr][bp] to access the genetic location for that basepair location of that chromosome\n",
    "genloc = col.defaultdict(dict)\n",
    "\n",
    "# All original new and known snps stored by each paper\n",
    "orignewassoc = col.defaultdict(set)\n",
    "origknownassoc = col.defaultdict(set)"
   ]
  },
  {
   "cell_type": "markdown",
   "metadata": {},
   "source": [
    "New and known SNP associations and information from original input files \"associations.new.tsv\" and \"associations.known.tsv\" are read and stored in corresponding data structures. These files are obtained from https://github.com/kuleshov/gwasdb/tree/master/notebooks/results."
   ]
  },
  {
   "cell_type": "code",
   "execution_count": 8,
   "metadata": {
    "collapsed": true
   },
   "outputs": [],
   "source": [
    "# Parsing through associations.new.tsv for information\n",
    "with open(\"associations.new.tsv\") as new:\n",
    "    for line in csv.reader(new, delimiter=\"\\t\"):\n",
    "        paperid = line[0]\n",
    "        snpid = line[1]\n",
    "        if snpid[0] == \"R\":\n",
    "            snpid = snpid.replace(\"R\", \"r\")\n",
    "        pheno1 = line[2]\n",
    "        pheno2 = line[3]\n",
    "        pval = float(line[4])\n",
    "        papersnps[paperid][(pheno1, pheno2)][\"new\"].add(snpid)\n",
    "        orignewassoc[paperid].add((paperid, snpid, pheno1, pheno2, pval))\n",
    "        newpvals[paperid][snpid] = pval\n",
    "\n",
    "# Parsing through associations.known.tsv for information\n",
    "with open(\"associations.known.tsv\") as known:\n",
    "    for line in csv.reader(known, delimiter=\"\\t\"):\n",
    "        paperid = line[0]\n",
    "        snpid = line[1]\n",
    "        if snpid[0] == \"R\":\n",
    "            snpid = snpid.replace(\"R\", \"r\")\n",
    "        pheno1 = line[2]\n",
    "        pheno2 = line[3]\n",
    "        pval = float(line[4])\n",
    "        papersnps[paperid][(pheno1, pheno2)][\"known\"].add(snpid)\n",
    "        origknownassoc[paperid].add((paperid, snpid, pheno1, pheno2, pval))\n",
    "        knownpapersnps[paperid].add(snpid)\n",
    "        knownphenos[snpid] = pheno1 + \" \" + pheno2\n",
    "        knownpvals[paperid][snpid] = pval"
   ]
  },
  {
   "cell_type": "markdown",
   "metadata": {},
   "source": [
    "Additional chromosome and basepair location information about the new and known SNPs are read from the input files \"newbps.txt\" and \"knownbps.txt\". These files are obtained from querying lists of new and known SNPs at https://bioinformatics.uef.fi/varietas/index.php?about=yes which uses the NCBI database using the Genome Version GRCh37."
   ]
  },
  {
   "cell_type": "code",
   "execution_count": 9,
   "metadata": {
    "collapsed": true
   },
   "outputs": [],
   "source": [
    "# Parsing through newbps.txt for information\n",
    "with open(\"newbps.txt\") as new2:\n",
    "    for line in csv.reader(new2, delimiter=\"\\t\"):\n",
    "        snpid = line[0].strip()\n",
    "        chrom = \"chr\" + line[2].strip()\n",
    "        bp = int(line[3].strip())\n",
    "        snpsinfo[snpid][\"chr\"] = chrom\n",
    "        snpsinfo[snpid][\"bp\"] = bp\n",
    "\n",
    "# Parsing through knownbps.txt for information\n",
    "with open(\"knownbps.txt\") as known2:\n",
    "    for line in csv.reader(known2, delimiter=\"\\t\"):\n",
    "        snpid = line[0].strip()\n",
    "        chrom = \"chr\" + line[2].strip()\n",
    "        bp = int(line[3].strip())\n",
    "        snpsinfo[snpid][\"chr\"] = chrom\n",
    "        snpsinfo[snpid][\"bp\"] = bp"
   ]
  },
  {
   "cell_type": "markdown",
   "metadata": {},
   "source": [
    "Files containing a genetic map that maps basepair location to genetic location for 22 chromosomes are read and stored. These genetic map files are obtained from http://www.shapeit.fr/pages/m02_formats/geneticmap.html and are located in the \"genetic_map_b37\" folder. The Genome Version is GRCh37."
   ]
  },
  {
   "cell_type": "code",
   "execution_count": 10,
   "metadata": {
    "collapsed": true
   },
   "outputs": [],
   "source": [
    "# Parses through all genetic map files for the chromosomes to get genetic location information and creates lists of bps for each chromosome\n",
    "numchroms = 22\n",
    "\n",
    "chrbps = {}\n",
    "\n",
    "for i in range(1, numchroms + 1):\n",
    "    chromosome = \"chr\" + str(i)\n",
    "    file = \"genetic_map_b37/genetic_map_\" + chromosome + \"_combined_b37.txt\"\n",
    "    with open(file) as genmap:\n",
    "        for line in csv.reader(genmap, delimiter=\" \"):\n",
    "            bp = int(line[0])\n",
    "            gen = float(line[2])\n",
    "            genloc[chromosome][bp] = gen\n",
    "    chrbps[chromosome] = genloc[chromosome].keys()"
   ]
  },
  {
   "cell_type": "markdown",
   "metadata": {},
   "source": [
    "Additionally, a file containing all known phenotypes for known SNPs in GWAS Catalog is read and parsed for SNP-phenotype information. This is used for replacing the known SNP phenotypes with a more accurate phenotype from GWAS Catalog if it exists. The file is named \"gwas_catalog_v1.0-associations_e87_r2017-02-13.tsv\" and is obtained from https://www.ebi.ac.uk/gwas/docs/file-downloads under \"All associations\"."
   ]
  },
  {
   "cell_type": "code",
   "execution_count": 11,
   "metadata": {
    "collapsed": true
   },
   "outputs": [],
   "source": [
    "# Dictionary to store GWAS Catalog SNP phenotypes\n",
    "gwasphenos = {}\n",
    "\n",
    "# Parsing through GWAS catalog for updated known phenotype\n",
    "with open(\"gwas_catalog_v1.0-associations_e87_r2017-02-13.tsv\") as new:\n",
    "    for line in csv.reader(new, delimiter=\"\\t\"):\n",
    "        snpid = line[16]\n",
    "        pheno = line[7]\n",
    "        gwasphenos[snpid] = pheno"
   ]
  },
  {
   "cell_type": "markdown",
   "metadata": {},
   "source": [
    "# Filtering New and Known SNPs for Associations"
   ]
  },
  {
   "cell_type": "markdown",
   "metadata": {},
   "source": [
    "Here, the original new SNPs and known SNPs lists are filtered to remove SNPs that are in linkage disequilibrium (LD) with other SNPs from the lists. From the new SNPs, SNPs in LD with known SNPs were removed. Additionally, for any pair of new SNPs in LD with each other, the SNP with the lower p-value was removed. Similarly, from the known SNPs, for any pair of known SNPs in LD with each other, the SNP with the lower p-value was removed. Linkage disequilibrium between two SNPs was defined as being on the same chromosome and having a genetic distance of less than or equal to 0.1 centiMorgans (cM) between the two SNPs. To do this, pairs of new-new, new-known, and known-known SNPs were examined with each other and if they were on the same chromosome and within 100000 basepairs (physical distance) of each other, their genetic distance was computed. If the genetic distance was less than the threshold of 0.1 cM, the association between the two SNPs was documented as being in LD."
   ]
  },
  {
   "cell_type": "markdown",
   "metadata": {},
   "source": [
    "Initial basepair threshold and list of SNPs in our database was created."
   ]
  },
  {
   "cell_type": "code",
   "execution_count": 12,
   "metadata": {
    "collapsed": true
   },
   "outputs": [],
   "source": [
    "bpthreshold = 100000 # Basepair distance threshold for comparing SNPs\n",
    "\n",
    "gendistancethreshold = 0.1 # Genetic distance threshold for filtering out of original lists\n",
    "\n",
    "keys = snpsinfo.keys()"
   ]
  },
  {
   "cell_type": "markdown",
   "metadata": {},
   "source": [
    "A function to obtain the genetic location of a SNP was initialized. The function works by taking in the chromsome and basepair location of the SNP and looks through the genetic map for the closest values less than or equal to and greater than or equal to the basepair location given for which a genetic location exists. From these two values, the genetic location of the SNP is interpolated."
   ]
  },
  {
   "cell_type": "code",
   "execution_count": 13,
   "metadata": {
    "collapsed": true
   },
   "outputs": [],
   "source": [
    "# Gets genetic location of a SNP given chromosome and basepair location\n",
    "def getGenLoc(chrom, bp):\n",
    "    if chrom == \"chrX\":  # no genetic location info for X chromosome in genetic map\n",
    "        return -1\n",
    "    chrombps = chrbps[chrom]\n",
    "    if len(chrombps) <= 0:\n",
    "        return -1\n",
    "    greaterarr = [val for val in chrombps if val >= bp]\n",
    "    lessarr = [val for val in chrombps if val <= bp]\n",
    "    if len(greaterarr) == 0 or len(lessarr) == 0:\n",
    "        return -1\n",
    "    greater = min(greaterarr)\n",
    "    less = max(lessarr)\n",
    "    x = [less, greater]\n",
    "    y = [genloc[chrom][less], genloc[chrom][greater]]\n",
    "    return np.interp(bp, x, y)"
   ]
  },
  {
   "cell_type": "markdown",
   "metadata": {},
   "source": [
    "LD associations between new SNPs and known SNPs are found and stored. Basically, new and known SNPs from the same paper and consisting of the same phenotype description are compared. If the SNPs are found on the same chromosome and within 100000 basepairs of each other in terms of physical distance, their genetic distance is calculated. If this genetic distance is within 0.1 cM, the SNPs are said to be in LD with each other and the association is recorded."
   ]
  },
  {
   "cell_type": "code",
   "execution_count": 14,
   "metadata": {
    "collapsed": true
   },
   "outputs": [],
   "source": [
    "# Contains associations for every paper in a list of tuples: (new SNPid, known SNPid, physical distance (bp), genetic distance (cM))\n",
    "# associations[paper] is a list of tuples of the associations for each paper\n",
    "associations = col.defaultdict(list)\n",
    "\n",
    "# For new - known associations\n",
    "for paper in papersnps:\n",
    "    for pheno in papersnps[paper]:\n",
    "        for newsnp in papersnps[paper][pheno][\"new\"]:\n",
    "            if not (newsnp in keys):\n",
    "                continue\n",
    "            if not (\"chr\" in snpsinfo[newsnp].keys()):\n",
    "                continue\n",
    "            newsnpchr = snpsinfo[newsnp][\"chr\"]\n",
    "            newsnpbp = snpsinfo[newsnp][\"bp\"]\n",
    "            for knownsnp in papersnps[paper][pheno][\"known\"]:\n",
    "                if not (knownsnp in keys):\n",
    "                    continue\n",
    "                if not (\"chr\" in snpsinfo[knownsnp].keys()):\n",
    "                    continue\n",
    "                knownsnpchr = snpsinfo[knownsnp][\"chr\"]\n",
    "                knownsnpbp = snpsinfo[knownsnp][\"bp\"]\n",
    "                bpdistance = abs(newsnpbp - knownsnpbp)\n",
    "                if newsnpchr == knownsnpchr and bpdistance <= bpthreshold:\n",
    "                    newsnpgen = getGenLoc(newsnpchr, newsnpbp)\n",
    "                    knownsnpgen = getGenLoc(knownsnpchr, knownsnpbp)\n",
    "                    if newsnpgen == -1 or knownsnpgen == -1:\n",
    "                        continue\n",
    "                    gendistance = abs(newsnpgen - knownsnpgen)\n",
    "                    snppheno = pheno[0] + \" \" + pheno[1]\n",
    "                    associations[paper].append((snppheno, newsnp, knownsnp, bpdistance, gendistance))"
   ]
  },
  {
   "cell_type": "markdown",
   "metadata": {},
   "source": [
    "These new-known SNP associations are then written to a .txt file named \"associationsnk.txt\" and the original new SNPs list is filtered to exclude new SNPs in LD with known SNPs."
   ]
  },
  {
   "cell_type": "code",
   "execution_count": 15,
   "metadata": {
    "collapsed": true
   },
   "outputs": [],
   "source": [
    "# Writes new - known associations to txt file\n",
    "output = open(\"associationsnk.txt\", \"w\")\n",
    "\n",
    "output.write(\"Paper ID, Phenotype, New SNP ID, Known SNP ID, Physical Distance (bp), Genetic Distance (cM)\\n\")\n",
    "\n",
    "filternk = col.defaultdict(set)\n",
    "\n",
    "for paper in associations:\n",
    "    for assoc in associations[paper]:\n",
    "        output.write(paper + \" \" + assoc[0] + \" \" + assoc[1] + \" \" + assoc[2] + \" \" + str(assoc[3]) + \" \" + str(assoc[4]) + \"\\n\")\n",
    "        if assoc[4] <= gendistancethreshold:\n",
    "            filternk[paper].add(assoc[1])\n",
    "\n",
    "output.close()\n",
    "\n",
    "# Filters original new list by removing new snps with new - known associations\n",
    "filterednewlist = col.defaultdict(list)\n",
    "\n",
    "for paper in orignewassoc:\n",
    "    papervals = list(orignewassoc[paper])\n",
    "    assocsnps = list(filternk[paper])\n",
    "    for val in papervals:\n",
    "        snpid = val[1]\n",
    "        if snpid not in assocsnps:\n",
    "            filterednewlist[paper].append(val)"
   ]
  },
  {
   "cell_type": "markdown",
   "metadata": {},
   "source": [
    "Similarly, LD associations between known SNPs and other known SNPs are found and stored. The GWAS phenotypes for the known SNPs are used if they exist."
   ]
  },
  {
   "cell_type": "code",
   "execution_count": 16,
   "metadata": {
    "collapsed": true
   },
   "outputs": [],
   "source": [
    "# For known - known associations using GWAS Phenotypes\n",
    "gwassnps = gwasphenos.keys()\n",
    "\n",
    "knownassociations = col.defaultdict(list)\n",
    "\n",
    "for paper in knownpapersnps:\n",
    "    snpslist = list(knownpapersnps[paper])\n",
    "    for i in range(len(snpslist)):\n",
    "        knownsnp1 = snpslist[i]\n",
    "        usegwas = False\n",
    "        if knownsnp1 in gwassnps:\n",
    "            knownsnppheno1 = gwasphenos[knownsnp1]\n",
    "            usegwas = True\n",
    "        else:\n",
    "            knownsnppheno1 = knownphenos[knownsnp1]\n",
    "        if not (knownsnp1 in keys):\n",
    "            continue\n",
    "        if not (\"chr\" in snpsinfo[knownsnp1].keys()):\n",
    "            continue\n",
    "        knownsnpchr1 = snpsinfo[knownsnp1][\"chr\"]\n",
    "        knownsnpbp1 = snpsinfo[knownsnp1][\"bp\"]\n",
    "        for j in range(i, len(snpslist)):\n",
    "            knownsnp2 = snpslist[j]\n",
    "            if knownsnp2 in gwassnps and usegwas:\n",
    "                knownsnppheno2 = gwasphenos[knownsnp2]\n",
    "            else:\n",
    "                knownsnppheno2 = knownphenos[knownsnp2]\n",
    "            if not (knownsnp2 in keys) or knownsnp1 == knownsnp2 or knownsnppheno1 != knownsnppheno2:\n",
    "                continue\n",
    "            if not (\"chr\" in snpsinfo[knownsnp2].keys()):\n",
    "                continue\n",
    "            knownsnpchr2 = snpsinfo[knownsnp2][\"chr\"]\n",
    "            knownsnpbp2 = snpsinfo[knownsnp2][\"bp\"]\n",
    "            bpdistance = abs(knownsnpbp1 - knownsnpbp2)\n",
    "            if knownsnpchr1 == knownsnpchr2 and bpdistance <= bpthreshold:\n",
    "                knownsnpgen1 = getGenLoc(knownsnpchr1, knownsnpbp1)\n",
    "                knownsnpgen2 = getGenLoc(knownsnpchr2, knownsnpbp2)\n",
    "                if knownsnpgen1 == -1 or knownsnpgen2 == -1:\n",
    "                    continue\n",
    "                gendistance = abs(knownsnpgen1 - knownsnpgen2)\n",
    "                snppheno = knownsnppheno1\n",
    "                knownassociations[paper].append((snppheno, knownsnp1, knownsnp2, bpdistance, gendistance))"
   ]
  },
  {
   "cell_type": "markdown",
   "metadata": {},
   "source": [
    "These known-known SNP associations are then written to a .txt file named \"associationskk.txt\" and the original known SNPs list is also filtered. For each pair of known SNPs in LD with each other, the known SNP with the lower p-value is removed from the list."
   ]
  },
  {
   "cell_type": "code",
   "execution_count": 17,
   "metadata": {
    "collapsed": true
   },
   "outputs": [],
   "source": [
    "# Writes known - known associations to txt file\n",
    "output = open(\"associationskk.txt\", \"w\")\n",
    "\n",
    "output.write(\"Paper ID, Phenotype, Known SNP 1 ID, Known SNP 2 ID, Physical Distance (bp), Genetic Distance (cM)\\n\")\n",
    "\n",
    "filterkk = col.defaultdict(set)\n",
    "\n",
    "for paper in knownassociations:\n",
    "    for assoc in knownassociations[paper]:\n",
    "        output.write(paper + \" \" + assoc[0] + \" \" + assoc[1] + \" \" + assoc[2] + \" \" + str(assoc[3]) + \" \" + str(assoc[4]) + \"\\n\")\n",
    "        if assoc[4] <= gendistancethreshold:\n",
    "            pval1 = knownpvals[paper][assoc[1]]\n",
    "            pval2 = knownpvals[paper][assoc[2]]\n",
    "            if pval1 < pval2:\n",
    "                filterkk[paper].add(assoc[1])\n",
    "            else:\n",
    "                filterkk[paper].add(assoc[2])\n",
    "\n",
    "output.close()\n",
    "\n",
    "# Filters original known list by removing known snps with known - known association and the lower pvalue of the pair\n",
    "filteredknownlist = col.defaultdict(list)\n",
    "\n",
    "for paper in origknownassoc:\n",
    "    papervals = list(origknownassoc[paper])\n",
    "    assocsnps = list(filterkk[paper])\n",
    "    for val in papervals:\n",
    "        snpid = val[1]\n",
    "        if snpid not in assocsnps:\n",
    "            filteredknownlist[paper].append(val)"
   ]
  },
  {
   "cell_type": "markdown",
   "metadata": {},
   "source": [
    "LD associations between new SNPs and other new SNPs are also found and stored."
   ]
  },
  {
   "cell_type": "code",
   "execution_count": 18,
   "metadata": {
    "collapsed": true
   },
   "outputs": [],
   "source": [
    "# For new - new associations\n",
    "newassociations = col.defaultdict(list)\n",
    "\n",
    "for paper in papersnps:\n",
    "    for pheno in papersnps[paper]:\n",
    "        snpslist = list(papersnps[paper][pheno][\"new\"])\n",
    "        for i in range(len(snpslist)):\n",
    "            newsnp1 = snpslist[i]\n",
    "            if not (newsnp1 in keys):\n",
    "                continue\n",
    "            if not (\"chr\" in snpsinfo[newsnp1].keys()):\n",
    "                continue\n",
    "            newsnpchr1 = snpsinfo[newsnp1][\"chr\"]\n",
    "            newsnpbp1 = snpsinfo[newsnp1][\"bp\"]\n",
    "            for j in range(i, len(snpslist)):\n",
    "                newsnp2 = snpslist[j]\n",
    "                if not (newsnp2 in keys) or newsnp1 == newsnp2:\n",
    "                    continue\n",
    "                if not (\"chr\" in snpsinfo[newsnp2].keys()):\n",
    "                    continue\n",
    "                newsnpchr2 = snpsinfo[newsnp2][\"chr\"]\n",
    "                newsnpbp2 = snpsinfo[newsnp2][\"bp\"]\n",
    "                bpdistance = abs(newsnpbp1 - newsnpbp2)\n",
    "                if newsnpchr1 == newsnpchr2 and bpdistance <= bpthreshold:\n",
    "                    newsnpgen1 = getGenLoc(newsnpchr1, newsnpbp1)\n",
    "                    newsnpgen2 = getGenLoc(newsnpchr2, newsnpbp2)\n",
    "                    if newsnpgen1 == -1 or newsnpgen2 == -1:\n",
    "                        continue\n",
    "                    gendistance = abs(newsnpgen1 - newsnpgen2)\n",
    "                    snppheno = pheno[0] + \" \" + pheno[1]\n",
    "                    newassociations[paper].append((snppheno, newsnp1, newsnp2, bpdistance, gendistance))"
   ]
  },
  {
   "cell_type": "markdown",
   "metadata": {},
   "source": [
    "These new-new SNP associations are then written to a .txt file named \"associationsnn.txt\". Here, a copy of the filtered new SNPs list (from filtering out new-known associations) is made so that there can be two filtered new SNPs lists: one list with just filtered new-known associations and one list with both filtered new-known associations and filtered new-new associations. To filter new-new associations, for each pair of new SNPs in LD with each other, the new SNP with the lower p-value is removed from the list."
   ]
  },
  {
   "cell_type": "code",
   "execution_count": 19,
   "metadata": {
    "collapsed": true
   },
   "outputs": [],
   "source": [
    "# Writes new - new associations to txt file\n",
    "output = open(\"associationsnn.txt\", \"w\")\n",
    "\n",
    "output.write(\"Paper ID, Phenotype, New SNP 1 ID, New SNP 2 ID, Physical Distance (bp), Genetic Distance (cM)\\n\")\n",
    "\n",
    "filternn = col.defaultdict(set)\n",
    "\n",
    "for paper in newassociations:\n",
    "    for assoc in newassociations[paper]:\n",
    "        output.write(paper + \" \" + assoc[0] + \" \" + assoc[1] + \" \" + assoc[2] + \" \" + str(assoc[3]) + \" \" + str(assoc[4]) + \"\\n\")\n",
    "        if assoc[4] <= gendistancethreshold:\n",
    "            pval1 = newpvals[paper][assoc[1]]\n",
    "            pval2 = newpvals[paper][assoc[2]]\n",
    "            if pval1 < pval2:\n",
    "                filternn[paper].add(assoc[1])\n",
    "            else:\n",
    "                filternn[paper].add(assoc[2])\n",
    "\n",
    "output.close()\n",
    "\n",
    "# Copies filterednewlist to keep new - new associations\n",
    "filterednewlist2 = copy.deepcopy(filterednewlist)\n",
    "\n",
    "# Filters filterednewlist by removing new snps with new - new associations\n",
    "for paper in filterednewlist:\n",
    "    papervals = filterednewlist[paper]\n",
    "    assocsnps = list(filternn[paper])\n",
    "    for val in papervals:\n",
    "        snpid = val[1]\n",
    "        if snpid in assocsnps:\n",
    "            filterednewlist[paper].remove(val)"
   ]
  },
  {
   "cell_type": "markdown",
   "metadata": {},
   "source": [
    "Finally, the filtered lists of new and known SNPs are written to tsv files. \"filtered.associations.new.tsv\" is the list of new SNPs with filtered out new-new associations as well as new-known associations, \"filtered.associations.new2.tsv\" is the list of new SNPs with filtered out new-known associations, and \"filtered.associations.known.tsv\" is the list of known SNPs with filtered out known-known associations."
   ]
  },
  {
   "cell_type": "code",
   "execution_count": 20,
   "metadata": {
    "collapsed": true
   },
   "outputs": [],
   "source": [
    "# Create filtered new list and filtered known list files\n",
    "\n",
    "# List with filtered out new - new associations\n",
    "output = open(\"filtered.associations.new.tsv\", \"w\")\n",
    "\n",
    "for paper in filterednewlist:\n",
    "    for val in filterednewlist[paper]:\n",
    "        output.write(paper + \"\\t\" + val[1] + \"\\t\" + val[2] + \"\\t\" + val[3] + \"\\t\" + str(val[4]) + \"\\n\")\n",
    "\n",
    "output.close()\n",
    "\n",
    "# List with kept new - new associations\n",
    "output = open(\"filtered.associations.new2.tsv\", \"w\")\n",
    "\n",
    "for paper in filterednewlist2:\n",
    "    for val in filterednewlist2[paper]:\n",
    "        output.write(paper + \"\\t\" + val[1] + \"\\t\" + val[2] + \"\\t\" + val[3] + \"\\t\" + str(val[4]) + \"\\n\")\n",
    "\n",
    "output.close()\n",
    "\n",
    "\n",
    "output = open(\"filtered.associations.known.tsv\", \"w\")\n",
    "\n",
    "for paper in filteredknownlist:\n",
    "    for val in filteredknownlist[paper]:\n",
    "        output.write(paper + \"\\t\" + val[1] + \"\\t\" + val[2] + \"\\t\" + val[3] + \"\\t\" + str(val[4]) + \"\\n\")\n",
    "\n",
    "output.close()"
   ]
  },
  {
   "cell_type": "code",
   "execution_count": 21,
   "metadata": {
    "collapsed": false
   },
   "outputs": [
    {
     "name": "stdout",
     "output_type": "stream",
     "text": [
      "Filtering SNPs Complete\n"
     ]
    }
   ],
   "source": [
    "print \"Filtering SNPs Complete\""
   ]
  },
  {
   "cell_type": "markdown",
   "metadata": {},
   "source": [
    "# Finding SNP - Gene Correlations for Filtered New SNPs"
   ]
  },
  {
   "cell_type": "markdown",
   "metadata": {},
   "source": [
    "Statistical analysis is performed on the filtered new SNPs to find whether SNPs relating to specific disease groups are more enriched in certain types of genes. Specifically, we want to see if nervous system related (NS) SNPs are more enriched in brain-related genes and if autoimmune disease related (AU) SNPs are more enriched in blood-related genes."
   ]
  },
  {
   "cell_type": "markdown",
   "metadata": {},
   "source": [
    "Additional data structures are initialized to store information about the disease related SNPs and the genes."
   ]
  },
  {
   "cell_type": "code",
   "execution_count": 41,
   "metadata": {
    "collapsed": false
   },
   "outputs": [],
   "source": [
    "# Traits relating to Nervous System and Autoimmune diseases\n",
    "nstraits = []\n",
    "autraits = []\n",
    "\n",
    "# SNPS from filtered new SNPs list corresponding to NS or AU\n",
    "nssnps = set([])\n",
    "ausnps = set([])\n",
    "\n",
    "# Information about basepair locations of brain and blood related genes\n",
    "# braingenes[chr] gives list of (start, end) basepair locations for blood related genes of that chromosome\n",
    "braingenes = col.defaultdict(list)\n",
    "bloodgenes = col.defaultdict(list)"
   ]
  },
  {
   "cell_type": "markdown",
   "metadata": {},
   "source": [
    "Lists of filtered new SNP traits associated with nervous system (NS) and autoimmune (AU) diseases are read and stored. These files are \"nstraitslist.tsv\" and \"autraitslist.tsv\" and the traits are obtained by manual selection of phenotypes from the \"filtered.associations.new2.tsv\" SNP phenotypes that correspond with NS and AU diseases."
   ]
  },
  {
   "cell_type": "code",
   "execution_count": 42,
   "metadata": {
    "collapsed": true
   },
   "outputs": [],
   "source": [
    "with open(\"nstraitslist.tsv\") as new:\n",
    "    for line in csv.reader(new, delimiter=\"\\t\"):\n",
    "        nstraits.append(line[0])\n",
    "\n",
    "with open(\"autraitslist.tsv\") as new:\n",
    "    for line in csv.reader(new, delimiter=\"\\t\"):\n",
    "        autraits.append(line[0])"
   ]
  },
  {
   "cell_type": "markdown",
   "metadata": {},
   "source": [
    "The filtered new SNPs list is read and corresponding NS and AU SNPs are stored. By default, the filtered new SNPs list used is \"filtered.associations.new2.tsv\" which does not filter out new-new SNP associations but the analysis can be done with the \"filtered.associations.new.tsv\" list which does filter out new-new SNP associations by replacing the file name \"filtered.associations.new2.tsv\" with \"filtered.associations.new.tsv\" as shown in the code. The total numbers of NS SNPs and AU SNPs are printed out after the SNPs are read and stored."
   ]
  },
  {
   "cell_type": "code",
   "execution_count": 43,
   "metadata": {
    "collapsed": false
   },
   "outputs": [
    {
     "name": "stdout",
     "output_type": "stream",
     "text": [
      "Number of NS SNPS: 283\n",
      "Number of AU SNPS: 155\n"
     ]
    }
   ],
   "source": [
    "# By default, uses \"filtered.associations.new2.tsv\" which is the filtered new SNPs list without removing new-new associations\n",
    "with open(\"filtered.associations.new2.tsv\") as new:\n",
    "    for line in csv.reader(new, delimiter=\"\\t\"):\n",
    "        if line[2] in nstraits:\n",
    "            nssnps.add(line[1])\n",
    "        elif line[2] in autraits:\n",
    "            ausnps.add(line[1])\n",
    "\n",
    "nssnps = list(nssnps)\n",
    "ausnps = list(ausnps)\n",
    "\n",
    "snpids = snpsinfo.keys()\n",
    "\n",
    "for snp in nssnps:\n",
    "    if snp not in snpids:\n",
    "        nssnps.remove(snp)\n",
    "\n",
    "for snp in ausnps:\n",
    "    if snp not in snpids:\n",
    "        ausnps.remove(snp)\n",
    "\n",
    "numnssnps = len(nssnps)\n",
    "numausnps = len(ausnps)\n",
    "\n",
    "print \"Number of NS SNPS:\", numnssnps\n",
    "print \"Number of AU SNPS:\", numausnps"
   ]
  },
  {
   "cell_type": "markdown",
   "metadata": {},
   "source": [
    "Information regarding the basepair locations/windows of brain and blood related genes are read and stored from files named \"output_gtexbraingenes.bed\" and \"output_gtexbloodgenes.bed\". To obtain these brain and blood related gene files, brain and blood genes are selected by filtering all genes stored in GTEx Portal (https://gtexportal.org/home/datasets) by tissue type (brain and blood related tissues) and a mean RPKM threshold. After these lists of brain and blood related genes are created, the lists are passed into the NCBI database query (https://www.ncbi.nlm.nih.gov/sites/batchentrez) to obtain the basepair locations of these genes. However, since the NCBI query references using Genome version GRCh38, the gene information is converted to a corresponding BED input format to convert the locations from GRCh38 to GRCh37 using the Ensembl Assembly Converter (http://grch37.ensembl.org/Homo_sapiens/Tools/AssemblyConverter?db=core) which gives us our final gene files of \"output_gtexbraingenes.bed\" and \"output_gtexbloodgenes.bed\"."
   ]
  },
  {
   "cell_type": "code",
   "execution_count": 44,
   "metadata": {
    "collapsed": true
   },
   "outputs": [],
   "source": [
    "# Using Genome version 37\n",
    "with open(\"output_gtexbraingenes.bed\") as new:\n",
    "    for line in csv.reader(new, delimiter=\"\\t\"):\n",
    "        if len(line[0]) <= 2:\n",
    "            braingenes[\"chr\" + line[0]].append((int(line[1]), int(line[2])))\n",
    "\n",
    "with open(\"output_gtexbloodgenes.bed\") as new:\n",
    "    for line in csv.reader(new, delimiter=\"\\t\"):\n",
    "        if len(line[0]) <= 2:\n",
    "            bloodgenes[\"chr\" + line[0]].append((int(line[1]), int(line[2])))"
   ]
  },
  {
   "cell_type": "markdown",
   "metadata": {},
   "source": [
    "Now we can calculate which fractions of NS and AU SNPs are found in brain and blood genes. A function that returns whether a SNP location is within a certain basepair window threshold of a gene basepair window is initialized."
   ]
  },
  {
   "cell_type": "code",
   "execution_count": 45,
   "metadata": {
    "collapsed": true
   },
   "outputs": [],
   "source": [
    "bpwindowthreshold = 200000\n",
    "\n",
    "def inRange(snpbp, startbp, endbp):\n",
    "    return snpbp >= startbp - bpwindowthreshold and snpbp <= endbp + bpwindowthreshold"
   ]
  },
  {
   "cell_type": "markdown",
   "metadata": {},
   "source": [
    "The percentages of NS SNPs found in brain genes, blood genes, both brain and blood genes, and neither brain nor blood genes are calculated and printed."
   ]
  },
  {
   "cell_type": "code",
   "execution_count": 46,
   "metadata": {
    "collapsed": false
   },
   "outputs": [
    {
     "name": "stdout",
     "output_type": "stream",
     "text": [
      "Percentage of NS SNPs Found in Brain Genes: 0.0883392226148\n",
      "Percentage of NS SNPs Found in Blood Genes: 0.0247349823322\n",
      "Percentage of NS SNPs Found in Both: 0.0777385159011\n",
      "Percentage of NS SNPs Found in Neither: 0.809187279152\n"
     ]
    }
   ],
   "source": [
    "# For NS SNPs\n",
    "nsbrain = 0\n",
    "nsblood = 0\n",
    "nsboth = 0\n",
    "nsnone = 0\n",
    "\n",
    "for snp in nssnps:\n",
    "    snpchr = snpsinfo[snp][\"chr\"]\n",
    "    snpbp = snpsinfo[snp][\"bp\"]\n",
    "\n",
    "    inbrain = 0\n",
    "    for start, end in braingenes[snpchr]:\n",
    "        if inRange(snpbp, start, end):\n",
    "            inbrain = 1\n",
    "            break\n",
    "\n",
    "    inblood = 0\n",
    "    for start, end in bloodgenes[snpchr]:\n",
    "        if inRange(snpbp, start, end):\n",
    "            inblood = 1\n",
    "            break\n",
    "\n",
    "    nsbrain += inbrain\n",
    "    nsblood += inblood\n",
    "\n",
    "    inboth = inbrain + inblood\n",
    "    if inboth == 2:\n",
    "        nsboth += 1\n",
    "        nsbrain -= 1\n",
    "        nsblood -= 1\n",
    "    elif inboth == 0:\n",
    "        nsnone += 1\n",
    "\n",
    "\n",
    "print \"Percentage of NS SNPs Found in Brain Genes:\", float(nsbrain) / numnssnps\n",
    "print \"Percentage of NS SNPs Found in Blood Genes:\", float(nsblood) / numnssnps\n",
    "print \"Percentage of NS SNPs Found in Both:\", float(nsboth) / numnssnps\n",
    "print \"Percentage of NS SNPs Found in Neither:\", float(nsnone) / numnssnps"
   ]
  },
  {
   "cell_type": "markdown",
   "metadata": {},
   "source": [
    "Similarly, the percentages of AU SNPs found in brain genes, blood genes, both brain and blood genes, and neither brain nor blood genes are calculated and printed."
   ]
  },
  {
   "cell_type": "code",
   "execution_count": 47,
   "metadata": {
    "collapsed": false
   },
   "outputs": [
    {
     "name": "stdout",
     "output_type": "stream",
     "text": [
      "Percentage of AU SNPs Found in Brain Genes: 0.0322580645161\n",
      "Percentage of AU SNPs Found in Blood Genes: 0.0645161290323\n",
      "Percentage of AU SNPs Found in Both: 0.129032258065\n",
      "Percentage of AU SNPs Found in Neither: 0.774193548387\n"
     ]
    }
   ],
   "source": [
    "# For AU SNPs\n",
    "aubrain = 0\n",
    "aublood = 0\n",
    "auboth = 0\n",
    "aunone = 0\n",
    "\n",
    "for snp in ausnps:\n",
    "    snpchr = snpsinfo[snp][\"chr\"]\n",
    "    snpbp = snpsinfo[snp][\"bp\"]\n",
    "\n",
    "    inbrain = 0\n",
    "    for start, end in braingenes[snpchr]:\n",
    "        if inRange(snpbp, start, end):\n",
    "            inbrain = 1\n",
    "            break\n",
    "\n",
    "    inblood = 0\n",
    "    for start, end in bloodgenes[snpchr]:\n",
    "        if inRange(snpbp, start, end):\n",
    "            inblood = 1\n",
    "            break\n",
    "\n",
    "    aubrain += inbrain\n",
    "    aublood += inblood\n",
    "\n",
    "    inboth = inbrain + inblood\n",
    "    if inboth == 2:\n",
    "        auboth += 1\n",
    "        aubrain -= 1\n",
    "        aublood -= 1\n",
    "    elif inboth == 0:\n",
    "        aunone += 1\n",
    "\n",
    "\n",
    "print \"Percentage of AU SNPs Found in Brain Genes:\", float(aubrain) / numausnps\n",
    "print \"Percentage of AU SNPs Found in Blood Genes:\", float(aublood) / numausnps\n",
    "print \"Percentage of AU SNPs Found in Both:\", float(auboth) / numausnps\n",
    "print \"Percentage of AU SNPs Found in Neither:\", float(aunone) / numausnps"
   ]
  },
  {
   "cell_type": "markdown",
   "metadata": {},
   "source": [
    "The specific number of NS and AU SNPs in brain, blood, both, and neither are also printed for reference."
   ]
  },
  {
   "cell_type": "code",
   "execution_count": 48,
   "metadata": {
    "collapsed": false
   },
   "outputs": [
    {
     "name": "stdout",
     "output_type": "stream",
     "text": [
      "NS SNPs in Brain: 25\n",
      "NS SNPs in Blood: 7\n",
      "AU SNPs in Brain: 5\n",
      "AU SNPs in Blood: 10\n",
      "NS Both: 22\n",
      "NS None: 229\n",
      "AU Both 20\n",
      "AU None: 120\n"
     ]
    }
   ],
   "source": [
    "print \"NS SNPs in Brain:\", nsbrain\n",
    "print \"NS SNPs in Blood:\", nsblood\n",
    "print \"AU SNPs in Brain:\", aubrain\n",
    "print \"AU SNPs in Blood:\", aublood\n",
    "print \"NS Both:\", nsboth\n",
    "print \"NS None:\", nsnone\n",
    "print \"AU Both\", auboth\n",
    "print \"AU None:\", aunone"
   ]
  },
  {
   "cell_type": "markdown",
   "metadata": {},
   "source": [
    "We now want to perform a Chi-Square test to see if it is indeed significant that NS and AU related SNPs are found more in brain or blood genes vs a uniform distribution of SNPs in genes. The Chi-Square test we use will contain 2 degrees of freedom (# of rows * # of columns) as we have 2 rows (NS and AU SNPs) and 3 columns (being in a brain related gene, being in a blood related gene, or other which combines being in both brain and blood genes and being in neither brain or blood genes) which gives us a significance threshold of 5.99 at a P-value of 0.05."
   ]
  },
  {
   "cell_type": "code",
   "execution_count": 50,
   "metadata": {
    "collapsed": false
   },
   "outputs": [],
   "source": [
    "# Three columns: brain, blood, other\n",
    "def chiSquare(nsbrain, nsblood, aubrain, aublood, nsother, auother):\n",
    "    blood = nsblood + aublood\n",
    "    brain = nsbrain + aubrain\n",
    "    other = nsother + auother\n",
    "    total = brain + blood + other\n",
    "    ns = nsbrain + nsblood + nsother\n",
    "    au = aubrain + aublood + auother\n",
    "\n",
    "    nsbr = (float(brain) / total) * ns\n",
    "    nsbl = (float(blood) / total) * ns\n",
    "    aubr = (float(brain) / total) * au\n",
    "    aubl = (float(blood) / total) * au\n",
    "    nsot = (float(other) / total) * ns\n",
    "    auot = (float(other) / total) * au\n",
    "\n",
    "    chisquareval = ((nsbrain - nsbr)**2 / nsbr) + ((nsblood - nsbl)**2 / nsbl) + ((aubrain - aubr)**2 / aubr) + ((aublood - aubl)**2 / aubl) + ((nsother - nsot)**2 /nsot) + ((auother - auot)**2 /auot)\n",
    "\n",
    "    return chisquareval\n",
    "\n",
    "# 95% confidence threshold for 2 degrees of freedom\n",
    "chithreshold = 5.99"
   ]
  },
  {
   "cell_type": "markdown",
   "metadata": {},
   "source": [
    "The Chi-Square value and significance threshold are printed out. If the Chi-Square value is greater than or equal to the significance threshold, then it is indeed significant that NS and AU related SNPs are found more in brain or blood genes than a uniform distribution."
   ]
  },
  {
   "cell_type": "code",
   "execution_count": 51,
   "metadata": {
    "collapsed": false
   },
   "outputs": [
    {
     "name": "stdout",
     "output_type": "stream",
     "text": [
      "Chi Square Value: 8.7118795957\n",
      "Threshold for Significance: 5.99\n"
     ]
    }
   ],
   "source": [
    "nsother = nsboth + nsnone\n",
    "auother = auboth + aunone\n",
    "\n",
    "chithreshold = 5.99\n",
    "chisquareval = chiSquare(nsbrain, nsblood, aubrain, aublood, nsother, auother)\n",
    "\n",
    "print \"Chi Square Value:\", chisquareval\n",
    "print \"Threshold for Significance:\", chithreshold"
   ]
  },
  {
   "cell_type": "markdown",
   "metadata": {},
   "source": [
    "# Finding SNP - Gene Correlations for GWAS Catalog SNPs"
   ]
  },
  {
   "cell_type": "markdown",
   "metadata": {},
   "source": [
    "Similarly, an analysis of NS and AU SNPs correlated with brain and blood genes is done on NS and AU SNPs from the GWAS Catalog to see if the significance is also prevalent in general NS and AU SNPs. The GWAS Catalog SNP files are found below in the specified lists."
   ]
  },
  {
   "cell_type": "markdown",
   "metadata": {},
   "source": [
    "The GWAS Catalog SNP files are read and stored. The total numbers of GWAS Catalog NS and AU SNPs are printed."
   ]
  },
  {
   "cell_type": "code",
   "execution_count": 52,
   "metadata": {
    "collapsed": false
   },
   "outputs": [
    {
     "name": "stdout",
     "output_type": "stream",
     "text": [
      "GWAS Catalog NS SNPS: 1805\n",
      "GWAS Catalog AU SNPS: 2956\n"
     ]
    }
   ],
   "source": [
    "# Run Analysis on GWAS Catalog NS and AU SNPs\n",
    "\n",
    "gwasnsfiles = [\"gwassclerosis.tsv\", \"gwasalzheimers.tsv\", \"gwasparkinsons.tsv\", \"gwasepilepsy.tsv\", \"gwasstroke.tsv\", \"gwasaphasia.tsv\"]\n",
    "gwasaufiles = [\"gwasrheumatoid.tsv\", \"gwaslupus.tsv\", \"gwasibd.tsv\", \"gwasdiabetes.tsv\", \"gwaspsorias.tsv\"]\n",
    "\n",
    "gwassnpsinfo = col.defaultdict(dict)\n",
    "gwasnssnps = []\n",
    "gwasausnps = []\n",
    "\n",
    "for filename in gwasnsfiles:\n",
    "    with open(filename) as new:\n",
    "        for line in csv.reader(new, delimiter=\"\\t\"):\n",
    "            if line[21] == \"\" or not line[11].isdigit() or not line[12].isdigit():\n",
    "                continue\n",
    "            gwassnp = line[21]\n",
    "            gwaschr = \"chr\" + line[11]\n",
    "            gwasbp = int(line[12])\n",
    "            gwassnpsinfo[gwassnp][\"chr\"] = gwaschr\n",
    "            gwassnpsinfo[gwassnp][\"bp\"] = gwasbp\n",
    "            gwasnssnps.append(gwassnp)\n",
    "\n",
    "for filename in gwasaufiles:\n",
    "    with open(filename) as new:\n",
    "        for line in csv.reader(new, delimiter=\"\\t\"):\n",
    "            if line[21] == \"\" or not line[11].isdigit() or not line[12].isdigit():\n",
    "                continue\n",
    "            gwassnp = line[21]\n",
    "            gwaschr = \"chr\" + line[11]\n",
    "            gwasbp = int(line[12])\n",
    "            gwassnpsinfo[gwassnp][\"chr\"] = gwaschr\n",
    "            gwassnpsinfo[gwassnp][\"bp\"] = gwasbp\n",
    "            gwasausnps.append(gwassnp)\n",
    "\n",
    "\n",
    "gnumnssnps = len(gwasnssnps)\n",
    "gnumausnps = len(gwasausnps)\n",
    "\n",
    "print \"GWAS Catalog NS SNPS:\", gnumnssnps\n",
    "print \"GWAS Catalog AU SNPS:\", gnumausnps"
   ]
  },
  {
   "cell_type": "markdown",
   "metadata": {},
   "source": [
    "The percentages of GWAS Catalog NS SNPs found in brain genes, blood genes, both brain and blood genes, and neither brain nor blood genes are calculated and printed."
   ]
  },
  {
   "cell_type": "code",
   "execution_count": 53,
   "metadata": {
    "collapsed": false
   },
   "outputs": [
    {
     "name": "stdout",
     "output_type": "stream",
     "text": [
      "Percentage of GWAS Catalog NS SNPs Found in Brain Genes: 0.0515235457064\n",
      "Percentage of GWAS Catalog NS SNPs Found in Blood Genes: 0.0470914127424\n",
      "Percentage of GWAS Catalog NS SNPs Found in Both: 0.0681440443213\n",
      "Percentage of GWAS Catalog NS SNPs Found in Neither: 0.83324099723\n"
     ]
    }
   ],
   "source": [
    "# For GWAS Catalog NS SNPs\n",
    "gnsbrain = 0\n",
    "gnsblood = 0\n",
    "gnsboth = 0\n",
    "gnsnone = 0\n",
    "\n",
    "for snp in gwasnssnps:\n",
    "    snpchr = gwassnpsinfo[snp][\"chr\"]\n",
    "    snpbp = gwassnpsinfo[snp][\"bp\"]\n",
    "\n",
    "    inbrain = 0\n",
    "    for start, end in braingenes[snpchr]:\n",
    "        if inRange(snpbp, start, end):\n",
    "            inbrain = 1\n",
    "            break\n",
    "\n",
    "    inblood = 0\n",
    "    for start, end in bloodgenes[snpchr]:\n",
    "        if inRange(snpbp, start, end):\n",
    "            inblood = 1\n",
    "            break\n",
    "\n",
    "    gnsbrain += inbrain\n",
    "    gnsblood += inblood\n",
    "\n",
    "    inboth = inbrain + inblood\n",
    "    if inboth == 2:\n",
    "        gnsboth += 1\n",
    "        gnsbrain -= 1\n",
    "        gnsblood -= 1\n",
    "    elif inboth == 0:\n",
    "        gnsnone += 1\n",
    "\n",
    "\n",
    "print \"Percentage of GWAS Catalog NS SNPs Found in Brain Genes:\", float(gnsbrain) / gnumnssnps\n",
    "print \"Percentage of GWAS Catalog NS SNPs Found in Blood Genes:\", float(gnsblood) / gnumnssnps\n",
    "print \"Percentage of GWAS Catalog NS SNPs Found in Both:\", float(gnsboth) / gnumnssnps\n",
    "print \"Percentage of GWAS Catalog NS SNPs Found in Neither:\", float(gnsnone) / gnumnssnps\n"
   ]
  },
  {
   "cell_type": "markdown",
   "metadata": {},
   "source": [
    "Similarly, the percentages of GWAS Catalog AU SNPs found in brain genes, blood genes, both brain and blood genes, and neither brain nor blood genes are calculated and printed."
   ]
  },
  {
   "cell_type": "code",
   "execution_count": 54,
   "metadata": {
    "collapsed": false
   },
   "outputs": [
    {
     "name": "stdout",
     "output_type": "stream",
     "text": [
      "Percentage of GWAS Catalog AU SNPs Found in Brain Genes: 0.0551420838972\n",
      "Percentage of GWAS Catalog AU SNPs Found in Blood Genes: 0.0703653585927\n",
      "Percentage of GWAS Catalog AU SNPs Found in Both: 0.0788227334235\n",
      "Percentage of GWAS Catalog AU SNPs Found in Neither: 0.795669824087\n"
     ]
    }
   ],
   "source": [
    "# For GWAS Catalog AU SNPs\n",
    "gaubrain = 0\n",
    "gaublood = 0\n",
    "gauboth = 0\n",
    "gaunone = 0\n",
    "\n",
    "for snp in gwasausnps:\n",
    "    snpchr = gwassnpsinfo[snp][\"chr\"]\n",
    "    snpbp = gwassnpsinfo[snp][\"bp\"]\n",
    "\n",
    "    inbrain = 0\n",
    "    for start, end in braingenes[snpchr]:\n",
    "        if inRange(snpbp, start, end):\n",
    "            inbrain = 1\n",
    "            break\n",
    "\n",
    "    inblood = 0\n",
    "    for start, end in bloodgenes[snpchr]:\n",
    "        if inRange(snpbp, start, end):\n",
    "            inblood = 1\n",
    "            break\n",
    "\n",
    "    gaubrain += inbrain\n",
    "    gaublood += inblood\n",
    "\n",
    "    inboth = inbrain + inblood\n",
    "    if inboth == 2:\n",
    "        gauboth += 1\n",
    "        gaubrain -= 1\n",
    "        gaublood -= 1\n",
    "    elif inboth == 0:\n",
    "        gaunone += 1\n",
    "\n",
    "\n",
    "print \"Percentage of GWAS Catalog AU SNPs Found in Brain Genes:\", float(gaubrain) / gnumausnps\n",
    "print \"Percentage of GWAS Catalog AU SNPs Found in Blood Genes:\", float(gaublood) / gnumausnps\n",
    "print \"Percentage of GWAS Catalog AU SNPs Found in Both:\", float(gauboth) / gnumausnps\n",
    "print \"Percentage of GWAS Catalog AU SNPs Found in Neither:\", float(gaunone) / gnumausnps"
   ]
  },
  {
   "cell_type": "markdown",
   "metadata": {},
   "source": [
    "The specific number of GWAS Catalog NS and AU SNPs in brain, blood, both, and neither are also printed for reference."
   ]
  },
  {
   "cell_type": "code",
   "execution_count": 55,
   "metadata": {
    "collapsed": false
   },
   "outputs": [
    {
     "name": "stdout",
     "output_type": "stream",
     "text": [
      "GWAS Catalog NS SNPs in Brain: 93\n",
      "GWAS Catalog NS SNPs in Blood: 85\n",
      "GWAS Catalog AU SNPs in Brain: 163\n",
      "GWAS Catalog AU SNPs in Blood: 208\n"
     ]
    }
   ],
   "source": [
    "print \"GWAS Catalog NS SNPs in Brain:\", gnsbrain\n",
    "print \"GWAS Catalog NS SNPs in Blood:\", gnsblood\n",
    "print \"GWAS Catalog AU SNPs in Brain:\", gaubrain\n",
    "print \"GWAS Catalog AU SNPs in Blood:\", gaublood"
   ]
  },
  {
   "cell_type": "markdown",
   "metadata": {},
   "source": [
    "The Chi-Square value and significance threshold are printed out. If the Chi-Square value is greater than or equal to the significance threshold, then it is indeed significant that GWAS Catalog NS and AU related SNPs are found more in brain or blood genes than a uniform distribution."
   ]
  },
  {
   "cell_type": "code",
   "execution_count": 56,
   "metadata": {
    "collapsed": false
   },
   "outputs": [
    {
     "name": "stdout",
     "output_type": "stream",
     "text": [
      "GWAS Catalog Chi Square Value: 11.0530511082\n",
      "Threshold for Significance: 5.99\n"
     ]
    }
   ],
   "source": [
    "# Three Column Chi-Square Test\n",
    "gnsother = gnsboth + gnsnone\n",
    "gauother = gauboth + gaunone\n",
    "\n",
    "gchisquareval = chiSquare(gnsbrain, gnsblood, gaubrain, gaublood, gnsother, gauother)\n",
    "\n",
    "print \"GWAS Catalog Chi Square Value:\", gchisquareval\n",
    "print \"Threshold for Significance:\", chithreshold"
   ]
  },
  {
   "cell_type": "markdown",
   "metadata": {},
   "source": [
    "# Final Results Output File"
   ]
  },
  {
   "cell_type": "markdown",
   "metadata": {},
   "source": [
    "The final results of the percentages and numbers of filtered new SNPs list of NS and AU SNPs found in brain genes, blood genes, both, and neither and the Chi-Square test values are printed to a results file. Similarly, the results for the GWAS Catalog NS and AU SNPs are also printed to the results. The file is named \"results.txt\"."
   ]
  },
  {
   "cell_type": "code",
   "execution_count": 57,
   "metadata": {
    "collapsed": false
   },
   "outputs": [
    {
     "name": "stdout",
     "output_type": "stream",
     "text": [
      "SNP Analysis Complete\n"
     ]
    }
   ],
   "source": [
    "# Writing results to output file\n",
    "results = open(\"results.txt\", \"w\")\n",
    "\n",
    "results.write(\"Percentage of NS SNPs Found in Brain Genes: \" + str(float(nsbrain) / numnssnps) + \"\\n\")\n",
    "results.write(\"Percentage of NS SNPs Found in Blood Genes: \" + str(float(nsblood) / numnssnps) + \"\\n\")\n",
    "results.write(\"Percentage of NS SNPs Found in Both: \" + str(float(nsboth) / numnssnps) + \"\\n\")\n",
    "results.write(\"Percentage of NS SNPs Found in Neither: \" + str(float(nsnone) / numnssnps) + \"\\n\")\n",
    "\n",
    "results.write(\"Percentage of AU SNPs Found in Brain Genes: \" + str(float(aubrain) / numausnps) + \"\\n\")\n",
    "results.write(\"Percentage of AU SNPs Found in Blood Genes: \" + str(float(aublood) / numausnps) + \"\\n\")\n",
    "results.write(\"Percentage of AU SNPs Found in Both: \" + str(float(auboth) / numausnps) + \"\\n\")\n",
    "results.write(\"Percentage of AU SNPs Found in Neither: \" + str(float(aunone) / numausnps) + \"\\n\")\n",
    "\n",
    "results.write(\"Number of NS SNPs Found in Brain Genes: \" + str(nsbrain) + \"\\n\")\n",
    "results.write(\"Number of NS SNPs Found in Blood Genes: \" + str(nsblood) + \"\\n\")\n",
    "\n",
    "results.write(\"Number of AU SNPs Found in Brain Genes: \" + str(aubrain) + \"\\n\")\n",
    "results.write(\"Number of AU SNPs Found in Blood Genes: \" + str(aublood) + \"\\n\")\n",
    "\n",
    "results.write(\"Chi Square Value for Significance of Non-Uniform Distribution in Brain and Blood Genes: \" + str(chisquareval) + \"\\n\")\n",
    "results.write(\"Threshold for Significance at 95% Confidence and Two Degrees of Freedom: \" + str(chithreshold) +  \"\\n\")\n",
    "\n",
    "results.write(\"\\n\")\n",
    "\n",
    "results.write(\"Percentage of GWAS Catalog NS SNPs Found in Brain Genes: \" + str(float(gnsbrain) / gnumnssnps) + \"\\n\")\n",
    "results.write(\"Percentage of GWAS Catalog NS SNPs Found in Blood Genes: \" + str(float(gnsblood) / gnumnssnps) + \"\\n\")\n",
    "results.write(\"Percentage of GWAS Catalog NS SNPs Found in Both: \" + str(float(gnsboth) / gnumnssnps) + \"\\n\")\n",
    "results.write(\"Percentage of GWAS Catalog NS SNPs Found in Neither: \" + str(float(gnsnone) / gnumnssnps) + \"\\n\")\n",
    "\n",
    "results.write(\"Percentage of GWAS Catalog AU SNPs Found in Brain Genes: \" + str(float(gaubrain) / gnumausnps) + \"\\n\")\n",
    "results.write(\"Percentage of GWAS Catalog AU SNPs Found in Blood Genes: \" + str(float(gaublood) / gnumausnps) + \"\\n\")\n",
    "results.write(\"Percentage of GWAS Catalog AU SNPs Found in Both: \" + str(float(gauboth) / gnumausnps) + \"\\n\")\n",
    "results.write(\"Percentage of GWAS Catalog AU SNPs Found in Neither: \" + str(float(gaunone) / gnumausnps) + \"\\n\")\n",
    "\n",
    "results.write(\"Number of GWAS Catalog NS SNPs Found in Brain Genes: \" + str(gnsbrain) + \"\\n\")\n",
    "results.write(\"Number of GWAS Catalog NS SNPs Found in Blood Genes: \" + str(gnsblood) + \"\\n\")\n",
    "\n",
    "results.write(\"Number of GWAS Catalog AU SNPs Found in Brain Genes: \" + str(gaubrain) + \"\\n\")\n",
    "results.write(\"Number of GWAS Catalog AU SNPs Found in Blood Genes: \" + str(gaublood) + \"\\n\")\n",
    "\n",
    "results.write(\"GWAS Catalog Chi Square Value for Significance of Non-Uniform Distribution in Brain and Blood Genes: \" + str(gchisquareval) + \"\\n\")\n",
    "results.write(\"Threshold for Significance at 95% Confidence and Two Degrees of Freedom: \" + str(chithreshold) +  \"\\n\")\n",
    "\n",
    "\n",
    "results.close()\n",
    "\n",
    "print \"SNP Analysis Complete\""
   ]
  }
 ],
 "metadata": {
  "anaconda-cloud": {},
  "kernelspec": {
   "display_name": "Python [default]",
   "language": "python",
   "name": "python2"
  },
  "language_info": {
   "codemirror_mode": {
    "name": "ipython",
    "version": 2
   },
   "file_extension": ".py",
   "mimetype": "text/x-python",
   "name": "python",
   "nbconvert_exporter": "python",
   "pygments_lexer": "ipython2",
   "version": "2.7.12"
  }
 },
 "nbformat": 4,
 "nbformat_minor": 1
}
